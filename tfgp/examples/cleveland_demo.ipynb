{
 "cells": [
  {
   "cell_type": "markdown",
   "metadata": {},
   "source": [
    "# Mixed Likelihood GPLVM"
   ]
  },
  {
   "cell_type": "code",
   "execution_count": null,
   "metadata": {},
   "outputs": [],
   "source": [
    "%env CUDA_DEVICE_ORDER=PCI_BUS_ID\n",
    "%env CUDA_VISIBLE_DEVICES=0\n",
    "from tensorflow.python.client import device_lib\n",
    "print(device_lib.list_local_devices())"
   ]
  },
  {
   "cell_type": "code",
   "execution_count": null,
   "metadata": {},
   "outputs": [],
   "source": [
    "import time\n",
    "import os"
   ]
  },
  {
   "cell_type": "code",
   "execution_count": null,
   "metadata": {},
   "outputs": [],
   "source": [
    "import tensorflow as tf\n",
    "import numpy as np\n",
    "from matplotlib import pyplot as plt\n",
    "from IPython import display\n",
    "%matplotlib inline\n",
    "import seaborn as sns"
   ]
  },
  {
   "cell_type": "code",
   "execution_count": null,
   "metadata": {},
   "outputs": [],
   "source": [
    "sns.set()\n",
    "sns.set_context(\"paper\")"
   ]
  },
  {
   "cell_type": "code",
   "execution_count": null,
   "metadata": {},
   "outputs": [],
   "source": [
    "import tfgp\n",
    "from tfgp.util import data\n",
    "from tfgp.model import MLGPLVM\n",
    "print(f\"Succesfully imported package: {tfgp.__file__}\")"
   ]
  },
  {
   "cell_type": "markdown",
   "metadata": {},
   "source": [
    "## Generate data"
   ]
  },
  {
   "cell_type": "code",
   "execution_count": null,
   "metadata": {},
   "outputs": [],
   "source": [
    "num_data = None\n",
    "y, likelihood, labels = data.make_cleveland(num_data)"
   ]
  },
  {
   "cell_type": "markdown",
   "metadata": {},
   "source": [
    "## Create model"
   ]
  },
  {
   "cell_type": "code",
   "execution_count": null,
   "metadata": {},
   "outputs": [],
   "source": [
    "latent_dim = 10\n",
    "num_inducing = 50"
   ]
  },
  {
   "cell_type": "code",
   "execution_count": null,
   "metadata": {},
   "outputs": [],
   "source": [
    "kernel = tfgp.kernel.ARDRBF(variance=0.5, gamma=0.5, xdim=latent_dim, name=\"kernel\")\n",
    "m = MLGPLVM(y, latent_dim, num_inducing=num_inducing, kernel=kernel, likelihood=likelihood)"
   ]
  },
  {
   "cell_type": "markdown",
   "metadata": {},
   "source": [
    "## Build graph"
   ]
  },
  {
   "cell_type": "code",
   "execution_count": null,
   "metadata": {},
   "outputs": [],
   "source": [
    "m.initialize()\n",
    "loss = tf.losses.get_total_loss()\n",
    "learning_rate = 1e-3\n",
    "with tf.name_scope(\"train\"):\n",
    "    trainable_vars = tf.trainable_variables()\n",
    "    optimizer = tf.train.RMSPropOptimizer(learning_rate, name=\"RMSProp\")\n",
    "    train_all = optimizer.minimize(loss, \n",
    "                                   var_list=tf.trainable_variables(),\n",
    "                                   global_step=tf.train.create_global_step(),\n",
    "                                   name=\"train\")\n",
    "with tf.name_scope(\"summary\"):\n",
    "    m.create_summaries()\n",
    "    tf.summary.scalar(\"total_loss\", loss, family=\"Loss\")\n",
    "    for reg_loss in tf.losses.get_regularization_losses():\n",
    "        tf.summary.scalar(f\"{reg_loss.name}\", reg_loss, family=\"Loss\")\n",
    "    merged_summary = tf.summary.merge_all()\n",
    "init = tf.global_variables_initializer()"
   ]
  },
  {
   "cell_type": "markdown",
   "metadata": {},
   "source": [
    "## Callback"
   ]
  },
  {
   "cell_type": "code",
   "execution_count": null,
   "metadata": {},
   "outputs": [],
   "source": [
    "def plot(x: np.ndarray, *, z: np.ndarray = None, gammas: np.ndarray = None, loss) -> None:\n",
    "    ax1.scatter(*x.T, c=labels)\n",
    "    if z is not None:\n",
    "        ax1.scatter(*z.T, c=\"k\", marker=\"x\")\n",
    "    elif gammas is not None:\n",
    "        ax3.bar(range(len(gammas)), gammas)\n",
    "    ax_x_min, ax_y_min = np.min(x, axis=0)\n",
    "    ax_x_max, ax_y_max = np.max(x, axis=0)\n",
    "    ax1.set_xlim(ax_x_min, ax_x_max)\n",
    "    ax1.set_ylim(ax_y_min, ax_y_max)\n",
    "    ax1.set_title(f\"Step {i}\")\n",
    "    ax2.plot(*np.array(loss).T)\n",
    "    ax2.set_title(f\"Loss: {train_loss}\")\n",
    "    display.display(f)\n",
    "    display.clear_output(wait=True)"
   ]
  },
  {
   "cell_type": "markdown",
   "metadata": {},
   "source": [
    "## Setup optimisation"
   ]
  },
  {
   "cell_type": "code",
   "execution_count": null,
   "metadata": {},
   "outputs": [],
   "source": [
    "root_dir = f\"../..\"\n",
    "dataset = \"cleveland\"\n",
    "start_time = f\"{time.strftime('%Y%m%d%H%M%S')}\"\n",
    "log_dir = f\"{root_dir}/log/{dataset}/{start_time}\"\n",
    "save_dir = f\"{root_dir}/save/{dataset}/{start_time}\"\n",
    "output_dir = f\"{root_dir}/output/{dataset}/{start_time}\"\n",
    "os.makedirs(save_dir)\n",
    "os.makedirs(output_dir)"
   ]
  },
  {
   "cell_type": "code",
   "execution_count": null,
   "metadata": {},
   "outputs": [],
   "source": [
    "sess = tf.InteractiveSession(config=tf.ConfigProto(log_device_placement=True))\n",
    "saver = tf.train.Saver()\n",
    "# saver.restore(sess, f\"{save_dir}/model.ckpt\")"
   ]
  },
  {
   "cell_type": "markdown",
   "metadata": {},
   "source": [
    "## Run optimisation"
   ]
  },
  {
   "cell_type": "code",
   "execution_count": null,
   "metadata": {},
   "outputs": [],
   "source": [
    "f, (ax1, ax2, ax3) = plt.subplots(1, 3, figsize=(15, 5))\n",
    "loss_list = []\n",
    "n_iter = 100000\n",
    "print_interval = 500\n",
    "save_interval = 5000\n",
    "try:\n",
    "    summary_writer = tf.summary.FileWriter(log_dir, sess.graph)\n",
    "    sess.run(init)\n",
    "    for i in range(n_iter):\n",
    "        sess.run(train_all)\n",
    "        if i % print_interval == 0:\n",
    "            run_options = tf.RunOptions(trace_level=tf.RunOptions.FULL_TRACE)\n",
    "            run_metadata = tf.RunMetadata()\n",
    "            train_loss, summary = sess.run([loss, merged_summary], options=run_options, run_metadata=run_metadata)\n",
    "            summary_writer.add_run_metadata(run_metadata, f\"step_{i}\", global_step=i)\n",
    "            summary_writer.add_summary(summary, i)\n",
    "            gammas = m.kernel._gamma.eval()\n",
    "            x_mean = m.qx_mean.eval().T\n",
    "            x_mean = x_mean[:, np.argsort(gammas)[-2:]]\n",
    "            z = m.z.eval()\n",
    "            loss_list.append([i, train_loss])\n",
    "            plot(x_mean, gammas=gammas, loss=loss_list)\n",
    "            ax1.cla()\n",
    "            ax2.cla()\n",
    "            ax3.cla()\n",
    "        if i % save_interval == 0:\n",
    "            saver.save(sess, f\"{save_dir}/model.ckpt\", global_step=i)\n",
    "            np.savetxt(f\"{output_dir}/x_mean_{i}.csv\", x_mean)\n",
    "            np.savetxt(f\"{output_dir}/z_{i}.csv\", z)\n",
    "            np.savetxt(f\"{output_dir}/labels.csv\", labels)\n",
    "            plot(x_mean, gammas=gammas, loss=loss_list)\n",
    "            plt.savefig(f\"{output_dir}/fig_{i}.eps\")\n",
    "            ax1.cla()\n",
    "            ax2.cla()\n",
    "            ax3.cla()\n",
    "except KeyboardInterrupt:\n",
    "    pass\n",
    "finally:\n",
    "    gammas = m.kernel._gamma.eval()\n",
    "    x_mean = m.qx_mean.eval().T\n",
    "    x_mean = x_mean[:, np.argsort(gammas)[-2:]]\n",
    "    z = m.z.eval()\n",
    "    loss_list.append([i, loss.eval()])\n",
    "    plot(x_mean, gammas=gammas, loss=loss_list)"
   ]
  },
  {
   "cell_type": "markdown",
   "metadata": {},
   "source": [
    "## BGPLVM"
   ]
  },
  {
   "cell_type": "code",
   "execution_count": null,
   "metadata": {},
   "outputs": [],
   "source": [
    "import GPy"
   ]
  },
  {
   "cell_type": "code",
   "execution_count": null,
   "metadata": {},
   "outputs": [],
   "source": [
    "y_sparse = np.loadtxt(\"../../util/cleveland.csv\", delimiter=\",\")"
   ]
  },
  {
   "cell_type": "code",
   "execution_count": null,
   "metadata": {},
   "outputs": [],
   "source": [
    "k = GPy.kern.RBF(latent_dim, ARD=True)\n",
    "bgplvm = GPy.models.BayesianGPLVM(y_sparse, latent_dim, num_inducing=num_inducing, kernel=k)"
   ]
  },
  {
   "cell_type": "code",
   "execution_count": null,
   "metadata": {},
   "outputs": [],
   "source": [
    "bgplvm.optimize(messages=True)"
   ]
  },
  {
   "cell_type": "code",
   "execution_count": null,
   "metadata": {},
   "outputs": [],
   "source": [
    "x_bgplvm = np.array(bgplvm.latent_space.mean)\n",
    "x_bgplvm = x_bgplvm[:, np.argsort(bgplvm.rbf.lengthscale)[:2]]\n",
    "plt.scatter(*x_bgplvm.T, c=labels)"
   ]
  },
  {
   "cell_type": "markdown",
   "metadata": {},
   "source": [
    "## PCA"
   ]
  },
  {
   "cell_type": "code",
   "execution_count": null,
   "metadata": {},
   "outputs": [],
   "source": [
    "x_pca = tfgp.util.pca_reduce(y_sparse, 2)\n",
    "plt.scatter(*x_pca.T, c=labels)\n",
    "plt.colorbar()"
   ]
  },
  {
   "cell_type": "markdown",
   "metadata": {},
   "source": [
    "## Compute 1NN error"
   ]
  },
  {
   "cell_type": "code",
   "execution_count": null,
   "metadata": {},
   "outputs": [],
   "source": [
    "binary_labels = (labels >= 1).astype(int)"
   ]
  },
  {
   "cell_type": "code",
   "execution_count": null,
   "metadata": {},
   "outputs": [],
   "source": [
    "k = 2\n",
    "l = binary_labels\n",
    "err_mlgplvm = tfgp.util.knn_abs_error(x_mean, l, k)\n",
    "err_bgplvm = tfgp.util.knn_abs_error(x_bgplvm, l, k)\n",
    "err_pca = tfgp.util.knn_abs_error(x_pca, l, k)\n",
    "print(f\"Missclasifications with MLGPLVM: {err_mlgplvm}\")\n",
    "print(f\"Missclasifications with BGPLVM: {err_bgplvm}\")\n",
    "print(f\"Missclasifications with PCA: {err_pca}\")"
   ]
  },
  {
   "cell_type": "markdown",
   "metadata": {},
   "source": [
    "# Save figures"
   ]
  },
  {
   "cell_type": "code",
   "execution_count": null,
   "metadata": {},
   "outputs": [],
   "source": [
    "plt.scatter(*x_mean.T, c=labels)\n",
    "plt.colorbar()\n",
    "plt.savefig(f\"{output_dir}/{dataset}_mlgplvm.eps\", format=\"eps\", dpi=1000)"
   ]
  },
  {
   "cell_type": "code",
   "execution_count": null,
   "metadata": {},
   "outputs": [],
   "source": [
    "plt.bar(range(len(gammas)), gammas)\n",
    "plt.savefig(f\"{output_dir}/{dataset}_gamma.eps\", format=\"eps\", dpi=1000)"
   ]
  },
  {
   "cell_type": "code",
   "execution_count": null,
   "metadata": {},
   "outputs": [],
   "source": [
    "plt.scatter(*x_bgplvm.T, c=labels)\n",
    "plt.colorbar()\n",
    "plt.savefig(f\"{output_dir}/{dataset}_bgplvm.eps\", format=\"eps\", dpi=1000)"
   ]
  },
  {
   "cell_type": "code",
   "execution_count": null,
   "metadata": {},
   "outputs": [],
   "source": [
    "plt.scatter(*x_pca.T, c=labels)\n",
    "plt.colorbar()\n",
    "plt.savefig(f\"{output_dir}/{dataset}_pca.eps\", format=\"eps\", dpi=1000)"
   ]
  }
 ],
 "metadata": {
  "language_info": {
   "name": "python",
   "pygments_lexer": "ipython3"
  }
 },
 "nbformat": 4,
 "nbformat_minor": 1
}
