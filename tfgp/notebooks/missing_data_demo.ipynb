{
 "cells": [
  {
   "cell_type": "markdown",
   "metadata": {},
   "source": [
    "# Mixed Likelihood GPLVM"
   ]
  },
  {
   "cell_type": "code",
   "execution_count": null,
   "metadata": {},
   "outputs": [],
   "source": [
    "import time\n",
    "import os"
   ]
  },
  {
   "cell_type": "code",
   "execution_count": null,
   "metadata": {},
   "outputs": [],
   "source": [
    "import tensorflow as tf\n",
    "import numpy as np\n",
    "from matplotlib import pyplot as plt\n",
    "from IPython import display\n",
    "%matplotlib inline\n",
    "import seaborn as sns"
   ]
  },
  {
   "cell_type": "code",
   "execution_count": null,
   "metadata": {},
   "outputs": [],
   "source": [
    "sns.set()\n",
    "sns.set_context(\"paper\")"
   ]
  },
  {
   "cell_type": "code",
   "execution_count": null,
   "metadata": {},
   "outputs": [],
   "source": [
    "import tfgp\n",
    "from tfgp.util import data\n",
    "from tfgp.model import VAEMLGPLVM\n",
    "print(f\"Succesfully imported package: {tfgp.__file__}\")"
   ]
  },
  {
   "cell_type": "markdown",
   "metadata": {},
   "source": [
    "## Generate data"
   ]
  },
  {
   "cell_type": "code",
   "execution_count": null,
   "metadata": {},
   "outputs": [],
   "source": [
    "dataset = \"cleveland\""
   ]
  },
  {
   "cell_type": "code",
   "execution_count": null,
   "metadata": {},
   "outputs": [],
   "source": [
    "num_data = None\n",
    "y, likelihood, labels = data.make_cleveland(num_data)\n",
    "if num_data is None:\n",
    "    num_data = y.shape[0]"
   ]
  },
  {
   "cell_type": "markdown",
   "metadata": {},
   "source": [
    "### Split intro train/test"
   ]
  },
  {
   "cell_type": "code",
   "execution_count": null,
   "metadata": {},
   "outputs": [],
   "source": [
    "train_split = int(0.8 * num_data)\n",
    "y_train = y[:train_split].copy()\n",
    "labels_train = labels[:train_split]\n",
    "y_test = y[train_split:].copy()\n",
    "labels_test = labels[train_split:]"
   ]
  },
  {
   "cell_type": "markdown",
   "metadata": {},
   "source": [
    "### Remove data form test"
   ]
  },
  {
   "cell_type": "code",
   "execution_count": null,
   "metadata": {},
   "outputs": [],
   "source": [
    "num_dims = likelihood.num_likelihoods"
   ]
  },
  {
   "cell_type": "code",
   "execution_count": null,
   "metadata": {},
   "outputs": [],
   "source": [
    "frac_missing = 0.2\n",
    "num_missing = int(frac_missing * num_dims)\n",
    "dims_missing = np.repeat([np.arange(num_dims)], y_test.shape[0], axis=0)\n",
    "_ = np.apply_along_axis(np.random.shuffle, 1, dims_missing)\n",
    "dims_missing = dims_missing[:, :num_missing]"
   ]
  },
  {
   "cell_type": "code",
   "execution_count": null,
   "metadata": {},
   "outputs": [],
   "source": [
    "idx = np.zeros(y_test.shape, dtype=bool)"
   ]
  },
  {
   "cell_type": "code",
   "execution_count": null,
   "metadata": {},
   "outputs": [],
   "source": [
    "for i in range(dims_missing.shape[0]):\n",
    "    for j in range(dims_missing.shape[1]):\n",
    "        idx[i, likelihood._slices[dims_missing[i, j]]] = True"
   ]
  },
  {
   "cell_type": "code",
   "execution_count": null,
   "metadata": {},
   "outputs": [],
   "source": [
    "y_test[idx] = None"
   ]
  },
  {
   "cell_type": "markdown",
   "metadata": {},
   "source": [
    "### Merge train/test"
   ]
  },
  {
   "cell_type": "code",
   "execution_count": null,
   "metadata": {},
   "outputs": [],
   "source": [
    "y_noisy = np.vstack([y_train, y_test])"
   ]
  },
  {
   "cell_type": "markdown",
   "metadata": {},
   "source": [
    "## Create model"
   ]
  },
  {
   "cell_type": "code",
   "execution_count": null,
   "metadata": {},
   "outputs": [],
   "source": [
    "latent_dim = 2\n",
    "num_inducing = 50\n",
    "num_hidden = 50"
   ]
  },
  {
   "cell_type": "code",
   "execution_count": null,
   "metadata": {},
   "outputs": [],
   "source": [
    "kernel = tfgp.kernel.ARDRBF(variance=0.5, gamma=0.5, xdim=latent_dim, name=\"kernel\")\n",
    "m = VAEMLGPLVM(y_noisy, latent_dim, kernel=kernel, likelihood=likelihood, \n",
    "               num_inducing=num_inducing, num_hidden=num_hidden)\n",
    "m.initialize()"
   ]
  },
  {
   "cell_type": "markdown",
   "metadata": {},
   "source": [
    "## Build graph"
   ]
  },
  {
   "cell_type": "code",
   "execution_count": null,
   "metadata": {},
   "outputs": [],
   "source": [
    "loss = tf.losses.get_total_loss()\n",
    "learning_rate = 1e-3\n",
    "with tf.name_scope(\"train\"):\n",
    "    trainable_vars = tf.trainable_variables()\n",
    "    optimizer = tf.train.RMSPropOptimizer(learning_rate, name=\"RMSProp\")\n",
    "    train_all = optimizer.minimize(loss, \n",
    "                                   var_list=tf.trainable_variables(),\n",
    "                                   global_step=tf.train.create_global_step(),\n",
    "                                   name=\"train\")\n",
    "with tf.name_scope(\"summary\"):\n",
    "    m.create_summaries()\n",
    "    for reg_loss in tf.losses.get_regularization_losses():\n",
    "        tf.summary.scalar(f\"{reg_loss.name}\", reg_loss, family=\"Loss\")\n",
    "    merged_summary = tf.summary.merge_all()\n",
    "init = tf.global_variables_initializer()"
   ]
  },
  {
   "cell_type": "markdown",
   "metadata": {},
   "source": [
    "## Callback"
   ]
  },
  {
   "cell_type": "code",
   "execution_count": null,
   "metadata": {},
   "outputs": [],
   "source": [
    "def plot(x: np.ndarray, *, z: np.ndarray = None, gammas: np.ndarray = None, loss) -> None:\n",
    "    if dataset == \"abalone\":\n",
    "        ax1.scatter(*x[y[:, 0]==1].T, c=labels[y[:, 0]==1], marker=\"d\")\n",
    "        ax1.scatter(*x[y[:, 1]==1].T, c=labels[y[:, 1]==1], marker=\"o\")\n",
    "        ax1.scatter(*x[y[:, 2]==1].T, c=labels[y[:, 2]==1], marker=\"x\")\n",
    "    elif dataset == \"cleveland\":\n",
    "        ax1.scatter(*x.T, c=labels)\n",
    "    elif dataset == \"alphadigits\":\n",
    "        interval_low = labels<12\n",
    "        interval_mid = np.logical_and(labels>=12, labels<24)\n",
    "        interval_high = labels>=24\n",
    "        ax1.scatter(*x[interval_low].T, c=labels[interval_low], cmap=\"Paired\", marker=\"d\")\n",
    "        ax1.scatter(*x[interval_mid].T, c=labels[interval_mid], cmap=\"Paired\", marker=\"x\")\n",
    "        ax1.scatter(*x[interval_high].T, c=labels[interval_high], cmap=\"Paired\", marker=\"*\")\n",
    "    else:\n",
    "        ax1.scatter(*x.T, c=labels, cmap=\"Paired\")\n",
    "    if z is not None:\n",
    "        ax1.scatter(*z.T, c=\"k\", marker=\"x\")\n",
    "    ax_x_min, ax_y_min = np.min(x, axis=0)\n",
    "    ax_x_max, ax_y_max = np.max(x, axis=0)\n",
    "    ax1.set_xlim(ax_x_min, ax_x_max)\n",
    "    ax1.set_ylim(ax_y_min, ax_y_max)\n",
    "    ax1.set_title(f\"Step {i}\")\n",
    "    \n",
    "    ax2.plot(*np.array(loss).T)\n",
    "    ax2.set_title(f\"Loss: {loss[-1][1]}\")\n",
    "    \n",
    "    if gammas is not None:\n",
    "        ax3.bar(range(len(gammas)), gammas, tick_label=(np.arange(len(gammas)) + 1))\n",
    "    \n",
    "    display.display(f)\n",
    "    display.clear_output(wait=True)"
   ]
  },
  {
   "cell_type": "markdown",
   "metadata": {},
   "source": [
    "## Setup optimisation"
   ]
  },
  {
   "cell_type": "code",
   "execution_count": null,
   "metadata": {},
   "outputs": [],
   "source": [
    "sess = tf.InteractiveSession(config=tf.ConfigProto(log_device_placement=True))\n",
    "saver = tf.train.Saver()\n",
    "# saver.restore(sess, \"../../model.ckpt\")"
   ]
  },
  {
   "cell_type": "code",
   "execution_count": null,
   "metadata": {},
   "outputs": [],
   "source": [
    "ROOT_PATH = os.path.dirname(tfgp.__file__)\n",
    "start_time = f\"{time.strftime('%Y%m%d%H%M%S')}\"\n",
    "log_dir = os.path.join(ROOT_PATH, os.pardir, \"log\", dataset, start_time)\n",
    "save_dir = os.path.join(ROOT_PATH, os.pardir, \"save\", dataset, start_time)\n",
    "output_dir = os.path.join(ROOT_PATH, os.pardir, \"output\", dataset, start_time)\n",
    "os.makedirs(save_dir)\n",
    "os.makedirs(output_dir)"
   ]
  },
  {
   "cell_type": "markdown",
   "metadata": {},
   "source": [
    "## Run optimisation"
   ]
  },
  {
   "cell_type": "code",
   "execution_count": null,
   "metadata": {},
   "outputs": [],
   "source": [
    "f, (ax1, ax2, ax3) = plt.subplots(1, 3, figsize=(15, 5))\n",
    "loss_list = []\n",
    "n_iter = 100000\n",
    "print_interval = 1000\n",
    "save_interval = 10000\n",
    "batch_size = 100\n",
    "all_data_indices = np.arange(num_data)\n",
    "all_data_dict = {m.batch_indices: all_data_indices}\n",
    "try:\n",
    "    summary_writer = tf.summary.FileWriter(log_dir, sess.graph)\n",
    "    sess.run(init)\n",
    "    for i in range(n_iter):\n",
    "        batch_indices = np.random.choice(num_data, batch_size, replace=False)\n",
    "        batch_dict = {m.batch_indices: batch_indices}\n",
    "        sess.run(train_all, feed_dict=batch_dict)\n",
    "        if i % print_interval == 0:\n",
    "            run_options = tf.RunOptions(trace_level=tf.RunOptions.FULL_TRACE)\n",
    "            run_metadata = tf.RunMetadata()\n",
    "            train_loss, summary = sess.run([loss, merged_summary], feed_dict=all_data_dict, \n",
    "                                           options=run_options, run_metadata=run_metadata)\n",
    "            summary_writer.add_run_metadata(run_metadata, f\"step_{i}\", global_step=i)\n",
    "            summary_writer.add_summary(summary, i)\n",
    "            gammas = sess.run(m.kernel._gamma)\n",
    "            x_mean, _ = sess.run(m.encoder, feed_dict=all_data_dict)\n",
    "            x_mean = x_mean[:, np.argsort(gammas)[-2:]]\n",
    "            z = sess.run(m.z)\n",
    "            loss_list.append([i, train_loss])\n",
    "            plot(x_mean, gammas=gammas, loss=loss_list)\n",
    "            ax1.cla()\n",
    "            ax2.cla()\n",
    "            ax3.cla()\n",
    "        if i % save_interval == 0:\n",
    "            saver.save(sess, f\"{save_dir}/model.ckpt\", global_step=i)\n",
    "            np.savetxt(f\"{output_dir}/x_mean_{i}.csv\", x_mean)\n",
    "            np.savetxt(f\"{output_dir}/z_{i}.csv\", z)\n",
    "            np.savetxt(f\"{output_dir}/labels.csv\", labels)\n",
    "            plot(x_mean, gammas=gammas, loss=loss_list)\n",
    "            plt.savefig(f\"{output_dir}/fig_{i}.eps\")\n",
    "            ax1.cla()\n",
    "            ax2.cla()\n",
    "            ax3.cla()\n",
    "except KeyboardInterrupt:\n",
    "    pass\n",
    "finally:\n",
    "    gammas = sess.run(m.kernel._gamma)\n",
    "    x_mean, _ = sess.run(m.encoder, feed_dict=all_data_dict)\n",
    "    x_mean = x_mean[:, np.argsort(gammas)[-2:]]\n",
    "    z = sess.run(m.z)\n",
    "    loss_list.append([i, sess.run(loss, feed_dict=all_data_dict)])\n",
    "    plot(x_mean, gammas=gammas, loss=loss_list)\n"
   ]
  },
  {
   "cell_type": "markdown",
   "metadata": {},
   "source": [
    "## Imputation error"
   ]
  },
  {
   "cell_type": "code",
   "execution_count": null,
   "metadata": {},
   "outputs": [],
   "source": [
    "imputation = sess.run(m.impute(), feed_dict=all_data_dict)"
   ]
  },
  {
   "cell_type": "code",
   "execution_count": null,
   "metadata": {},
   "outputs": [],
   "source": [
    "y_test[:, 0]"
   ]
  },
  {
   "cell_type": "code",
   "execution_count": null,
   "metadata": {},
   "outputs": [],
   "source": [
    "imputation[train_split:, 0]"
   ]
  },
  {
   "cell_type": "code",
   "execution_count": null,
   "metadata": {},
   "outputs": [],
   "source": [
    "(imputation[train_split:] - y_true)[:, 0]"
   ]
  },
  {
   "cell_type": "markdown",
   "metadata": {},
   "source": [
    "## Perplexity"
   ]
  },
  {
   "cell_type": "code",
   "execution_count": null,
   "metadata": {},
   "outputs": [],
   "source": [
    "import tensorflow_probability as tfp"
   ]
  },
  {
   "cell_type": "code",
   "execution_count": null,
   "metadata": {},
   "outputs": [],
   "source": [
    "y_true = y[train_split:].astype(np.float32)"
   ]
  },
  {
   "cell_type": "code",
   "execution_count": null,
   "metadata": {},
   "outputs": [],
   "source": [
    "#x = tf.matrix_transpose(m.qx_mean)[train_split:].eval()[idx[:, 0]]\n",
    "x_mean, _ = sess.run(m.encoder, feed_dict=all_data_dict)\n",
    "x_mean = x_mean[train_split:]"
   ]
  },
  {
   "cell_type": "code",
   "execution_count": null,
   "metadata": {},
   "outputs": [],
   "source": [
    "x = tf.convert_to_tensor(x)"
   ]
  },
  {
   "cell_type": "code",
   "execution_count": null,
   "metadata": {},
   "outputs": [],
   "source": [
    "#y = y_true[idx[:, 0]]\n",
    "y = y_true"
   ]
  },
  {
   "cell_type": "code",
   "execution_count": null,
   "metadata": {},
   "outputs": [],
   "source": [
    "kzz = m.kernel(m.z)\n",
    "kzz_inv = tf.matrix_inverse(kzz)\n",
    "kxx = m.kernel(x)\n",
    "kxz = m.kernel(x, m.z)\n",
    "kzx = tf.matrix_transpose(kxz)"
   ]
  },
  {
   "cell_type": "code",
   "execution_count": null,
   "metadata": {},
   "outputs": [],
   "source": [
    "mean = kxz @ kzz_inv @ tf.matrix_transpose(m.qu_mean)\n",
    "cov = kxx - kxz @ kzz_inv @ kzx"
   ]
  },
  {
   "cell_type": "code",
   "execution_count": null,
   "metadata": {},
   "outputs": [],
   "source": [
    "cov_chol = tf.cholesky(cov + tf.diag((tf.ones([kxx.shape[0]]) * 0.1)))"
   ]
  },
  {
   "cell_type": "code",
   "execution_count": null,
   "metadata": {},
   "outputs": [],
   "source": [
    "norm = tfp.distributions.MultivariateNormalTriL(tf.matrix_transpose(mean), cov_chol)"
   ]
  },
  {
   "cell_type": "code",
   "execution_count": null,
   "metadata": {},
   "outputs": [],
   "source": [
    "f_guess = tf.matrix_transpose(norm.sample(100)).eval()"
   ]
  },
  {
   "cell_type": "code",
   "execution_count": null,
   "metadata": {},
   "outputs": [],
   "source": [
    "probs_list = [likelihood(f_guess)[i].prob(y[:, likelihood._slices[i]]).eval() \n",
    "              for i in range(likelihood.num_likelihoods)]\n",
    "mean_prob = np.array([np.squeeze(np.mean(p, axis=0)) for p in probs_list])"
   ]
  },
  {
   "cell_type": "code",
   "execution_count": null,
   "metadata": {},
   "outputs": [],
   "source": [
    "#f_guess = tf.matrix_transpose(norm.sample(100)).eval()\n",
    "#stddevs = np.array([l._scale.eval()[0] for l in m._likelihood._likelihoods])\n",
    "#lik = tf.distributions.Normal(f_guess, stddevs)\n",
    "#mean_prob = np.mean(lik.prob(y_true).eval(), axis=0)"
   ]
  },
  {
   "cell_type": "code",
   "execution_count": null,
   "metadata": {},
   "outputs": [],
   "source": [
    "sum_log_likelihood = np.log(mean_prob).sum()\n",
    "avg_log_likelihood = np.log(mean_prob).mean()"
   ]
  },
  {
   "cell_type": "code",
   "execution_count": null,
   "metadata": {},
   "outputs": [],
   "source": [
    "print(f\"The log likelihood is {sum_log_likelihood}, average is {avg_log_likelihood}\")"
   ]
  },
  {
   "cell_type": "markdown",
   "metadata": {},
   "source": [
    "## GPy missing"
   ]
  },
  {
   "cell_type": "code",
   "execution_count": null,
   "metadata": {},
   "outputs": [],
   "source": [
    "import GPy"
   ]
  },
  {
   "cell_type": "code",
   "execution_count": null,
   "metadata": {},
   "outputs": [],
   "source": [
    "k = GPy.kern.RBF(latent_dim, ARD=True)\n",
    "bgplvm = GPy.models.bayesian_gplvm_minibatch.BayesianGPLVMMiniBatch(y_noisy, latent_dim, num_inducing=num_inducing, kernel=k, missing_data=True)\n",
    "#bgplvm = GPy.models.BayesianGPLVM(y_noisy, latent_dim, num_inducing=num_inducing, kernel=k, missing_data=True)"
   ]
  },
  {
   "cell_type": "code",
   "execution_count": null,
   "metadata": {},
   "outputs": [],
   "source": [
    "bgplvm.optimize(messages=1)"
   ]
  },
  {
   "cell_type": "code",
   "execution_count": null,
   "metadata": {},
   "outputs": [],
   "source": [
    "x_bgplvm = np.array(bgplvm.latent_space.mean)\n",
    "fig = plt.figure()\n",
    "plt.scatter(*x_bgplvm.T, c=labels)\n",
    "#plt.scatter(*x_bgplvm[:train_split].T, c=labels[:train_split])\n",
    "#plt.scatter(*x_bgplvm[:train_split].T, label=\"Fully observed\")\n",
    "#plt.scatter(*x_bgplvm[train_split:][~idx[:, 0]].T, label=\"Gender observed\")\n",
    "#plt.scatter(*x_bgplvm[train_split:].T, c=labels[train_split:], marker=\"*\", edgecolors=\"k\")\n",
    "#plt.scatter(*x_bgplvm[train_split:][idx[:, 0]].T, label=\"Gender unobserved\")\n",
    "plt.legend(loc=(0.65,0.65))"
   ]
  },
  {
   "cell_type": "code",
   "execution_count": null,
   "metadata": {},
   "outputs": [],
   "source": [
    "bgplvm.log_predictive_density(x_mean[train_split:], y_true).sum()"
   ]
  },
  {
   "cell_type": "code",
   "execution_count": null,
   "metadata": {},
   "outputs": [],
   "source": [
    "bgplvm.log_predictive_density(np.array(bgplvm.latent_space.mean[train_split:]), y[train_split:]).mean()"
   ]
  },
  {
   "cell_type": "code",
   "execution_count": null,
   "metadata": {},
   "outputs": [],
   "source": [
    "bgplvm.log_predictive_density(np.array(bgplvm.latent_space.mean[train_split:][idx[:, 0]]), y).sum()"
   ]
  }
 ],
 "metadata": {
  "language_info": {
   "name": "python",
   "pygments_lexer": "ipython3"
  }
 },
 "nbformat": 4,
 "nbformat_minor": 1
}
