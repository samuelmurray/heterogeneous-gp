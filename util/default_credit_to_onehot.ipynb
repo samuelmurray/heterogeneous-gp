{
 "cells": [
  {
   "cell_type": "code",
   "execution_count": null,
   "metadata": {},
   "outputs": [],
   "source": [
    "import pandas as pd"
   ]
  },
  {
   "cell_type": "code",
   "execution_count": null,
   "metadata": {},
   "outputs": [],
   "source": [
    "def replace_column_with_onehot(df, col_name):\n",
    "    df[col_name] = pd.Categorical(df[col_name])\n",
    "    dfDummies = pd.get_dummies(df[col_name], prefix=col_name)\n",
    "    df = pd.concat([df, dfDummies], axis=1)\n",
    "    df = df.drop(columns=col_name)\n",
    "    return df"
   ]
  },
  {
   "cell_type": "code",
   "execution_count": null,
   "metadata": {},
   "outputs": [],
   "source": [
    "df = pd.read_csv(\"default_credit.csv\", header=None)"
   ]
  },
  {
   "cell_type": "code",
   "execution_count": null,
   "metadata": {},
   "outputs": [],
   "source": [
    "df = replace_column_with_onehot(df, 1)\n",
    "df = replace_column_with_onehot(df, 2)\n",
    "df = replace_column_with_onehot(df, 3)\n",
    "df = replace_column_with_onehot(df, 5)\n",
    "df = replace_column_with_onehot(df, 6)\n",
    "df = replace_column_with_onehot(df, 7)\n",
    "df = replace_column_with_onehot(df, 8)\n",
    "df = replace_column_with_onehot(df, 9)\n",
    "df = replace_column_with_onehot(df, 10)\n",
    "df = replace_column_with_onehot(df, 23)"
   ]
  },
  {
   "cell_type": "code",
   "execution_count": null,
   "metadata": {},
   "outputs": [],
   "source": [
    "cols = [\n",
    "    0,\n",
    "    '1_1',\n",
    "    '1_2',\n",
    "    '2_0',\n",
    "    '2_1',\n",
    "    '2_2',\n",
    "    '2_3',\n",
    "    '2_4',\n",
    "    '2_5',\n",
    "    '2_6',\n",
    "    '3_0',\n",
    "    '3_1',\n",
    "    '3_2',\n",
    "    '3_3',\n",
    "    4,\n",
    "    '5_-2',\n",
    "    '5_-1',\n",
    "    '5_0',\n",
    "    '5_1',\n",
    "    '5_2',\n",
    "    '5_3',\n",
    "    '5_4',\n",
    "    '5_5',\n",
    "    '5_6',\n",
    "    '5_7',\n",
    "    '5_8',\n",
    "    '6_-2',\n",
    "    '6_-1',\n",
    "    '6_0',\n",
    "    '6_1',\n",
    "    '6_2',\n",
    "    '6_3',\n",
    "    '6_4',\n",
    "    '6_5',\n",
    "    '6_6',\n",
    "    '6_7',\n",
    "    '6_8',\n",
    "    '7_-2',\n",
    "    '7_-1',\n",
    "    '7_0',\n",
    "    '7_1',\n",
    "    '7_2',\n",
    "    '7_3',\n",
    "    '7_4',\n",
    "    '7_5',\n",
    "    '7_6',\n",
    "    '7_7',\n",
    "    '7_8',\n",
    "    '8_-2',\n",
    "    '8_-1',\n",
    "    '8_0',\n",
    "    '8_1',\n",
    "    '8_2',\n",
    "    '8_3',\n",
    "    '8_4',\n",
    "    '8_5',\n",
    "    '8_6',\n",
    "    '8_7',\n",
    "    '8_8',\n",
    "    '9_-2',\n",
    "    '9_-1',\n",
    "    '9_0',\n",
    "    '9_2',\n",
    "    '9_3',\n",
    "    '9_4',\n",
    "    '9_5',\n",
    "    '9_6',\n",
    "    '9_7',\n",
    "    '9_8',\n",
    "    '10_-2',\n",
    "    '10_-1',\n",
    "    '10_0',\n",
    "    '10_2',\n",
    "    '10_3',\n",
    "    '10_4',\n",
    "    '10_5',\n",
    "    '10_6',\n",
    "    '10_7',\n",
    "    '10_8',\n",
    "    11,\n",
    "    12,\n",
    "    13,\n",
    "    14,\n",
    "    15,\n",
    "    16,\n",
    "    17,\n",
    "    18,\n",
    "    19,\n",
    "    20,\n",
    "    21,\n",
    "    22,\n",
    "    '23_0',\n",
    "    '23_1'\n",
    "]"
   ]
  },
  {
   "cell_type": "code",
   "execution_count": null,
   "metadata": {},
   "outputs": [],
   "source": [
    "data_onehot = df[cols].to_numpy(dtype=np.float32)"
   ]
  },
  {
   "cell_type": "code",
   "execution_count": null,
   "metadata": {},
   "outputs": [],
   "source": [
    "np.savetxt(\"default_credit_onehot.csv\", data_onehot, fmt=\"%.1f\", delimiter=\",\")"
   ]
  }
 ],
 "metadata": {
  "language_info": {
   "name": "python",
   "pygments_lexer": "ipython3"
  }
 },
 "nbformat": 4,
 "nbformat_minor": 2
}
