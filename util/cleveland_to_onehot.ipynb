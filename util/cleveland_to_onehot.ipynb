{
 "cells": [
  {
   "cell_type": "code",
   "execution_count": null,
   "metadata": {},
   "outputs": [],
   "source": [
    "import numpy as np"
   ]
  },
  {
   "cell_type": "code",
   "execution_count": null,
   "metadata": {},
   "outputs": [],
   "source": [
    "data = np.loadtxt(\"cleveland.csv\", delimiter=\",\")"
   ]
  },
  {
   "cell_type": "markdown",
   "metadata": {},
   "source": [
    "nor ber cat4 nor nor ber cat3 nor ber nor cat3 cat4 cat3 "
   ]
  },
  {
   "cell_type": "code",
   "execution_count": null,
   "metadata": {},
   "outputs": [],
   "source": [
    "tot_dim = 1 + 1 + 4 + 1 + 1 + 1 + 3 + 1 + 1 + 1 + 3 + 4 + 3"
   ]
  },
  {
   "cell_type": "code",
   "execution_count": null,
   "metadata": {},
   "outputs": [],
   "source": [
    "data_onehot = np.zeros([data.shape[0], tot_dim + 1])"
   ]
  },
  {
   "cell_type": "code",
   "execution_count": null,
   "metadata": {},
   "outputs": [],
   "source": [
    "data_onehot[:, 0] = data[:, 0]\n",
    "data_onehot[:, 1] = data[:, 1]\n",
    "data_onehot[:, 2] = data[:, 2] == 1\n",
    "data_onehot[:, 3] = data[:, 2] == 2\n",
    "data_onehot[:, 4] = data[:, 2] == 3\n",
    "data_onehot[:, 5] = data[:, 2] == 4\n",
    "data_onehot[:, 6] = data[:, 3]\n",
    "data_onehot[:, 7] = data[:, 4]\n",
    "data_onehot[:, 8] = data[:, 5]\n",
    "data_onehot[:, 9] = data[:, 6] == 0\n",
    "data_onehot[:, 10] = data[:, 6] == 1\n",
    "data_onehot[:, 11] = data[:, 6] == 2\n",
    "data_onehot[:, 12] = data[:, 7]\n",
    "data_onehot[:, 13] = data[:, 8]\n",
    "data_onehot[:, 14] = data[:, 9]\n",
    "data_onehot[:, 15] = data[:, 10] == 1\n",
    "data_onehot[:, 16] = data[:, 10] == 2\n",
    "data_onehot[:, 17] = data[:, 10] == 3\n",
    "data_onehot[:, 18] = data[:, 11] == 0\n",
    "data_onehot[:, 19] = data[:, 11] == 1\n",
    "data_onehot[:, 20] = data[:, 11] == 2\n",
    "data_onehot[:, 21] = data[:, 11] == 3\n",
    "data_onehot[:, 22] = data[:, 12] == 3\n",
    "data_onehot[:, 23] = data[:, 12] == 6\n",
    "data_onehot[:, 24] = data[:, 12] == 7\n",
    "data_onehot[:, 25] = data[:, 13]"
   ]
  },
  {
   "cell_type": "code",
   "execution_count": null,
   "metadata": {},
   "outputs": [],
   "source": [
    "np.savetxt(\"cleveland_onehot.csv\", data_onehot, fmt=\"%.1f\", delimiter=\",\")"
   ]
  },
  {
   "cell_type": "code",
   "execution_count": null,
   "metadata": {},
   "outputs": [],
   "source": []
  }
 ],
 "metadata": {
  "language_info": {
   "name": "python",
   "pygments_lexer": "ipython3"
  }
 },
 "nbformat": 4,
 "nbformat_minor": 2
}
