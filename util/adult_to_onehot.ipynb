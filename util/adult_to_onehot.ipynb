{
 "cells": [
  {
   "cell_type": "code",
   "execution_count": null,
   "metadata": {},
   "outputs": [],
   "source": [
    "import numpy as np"
   ]
  },
  {
   "cell_type": "code",
   "execution_count": null,
   "metadata": {},
   "outputs": [],
   "source": [
    "data = np.genfromtxt(\"adult.csv\", delimiter=\",\", filling_values=None)"
   ]
  },
  {
   "cell_type": "markdown",
   "metadata": {},
   "source": [
    "count\t1\t\n",
    "cat\t7\t7  \n",
    "pos\t1\t\n",
    "ordinal\t16\t16  \n",
    "cat\t7\t7  \n",
    "cat\t14\t14  \n",
    "cat\t6\t6  \n",
    "cat\t5\t5  \n",
    "cat\t2\t2  \n",
    "pos\t1\t  \n",
    "pos\t1\t\n",
    "count\t1  "
   ]
  },
  {
   "cell_type": "code",
   "execution_count": null,
   "metadata": {},
   "outputs": [],
   "source": [
    "dims = [\n",
    "    (\"count\", 1), \n",
    "    (\"cat\", 7), \n",
    "    (\"pos\", 1), \n",
    "    (\"ord\", 16), \n",
    "    (\"cat\", 7), \n",
    "    (\"cat\", 14),\n",
    "    (\"cat\", 6),\n",
    "    (\"cat\", 5),\n",
    "    (\"cat\", 2),\n",
    "    (\"pos\", 1),\n",
    "    (\"pos\", 1),\n",
    "    (\"count\", 1),\n",
    "]\n",
    "assert len(dims) == data.shape[1]"
   ]
  },
  {
   "cell_type": "code",
   "execution_count": null,
   "metadata": {},
   "outputs": [],
   "source": [
    "dim_count = 0\n",
    "for dim, count in dims:\n",
    "    dim_count += count"
   ]
  },
  {
   "cell_type": "code",
   "execution_count": null,
   "metadata": {},
   "outputs": [],
   "source": [
    "data_onehot = np.zeros((data.shape[0], dim_count))"
   ]
  },
  {
   "cell_type": "code",
   "execution_count": null,
   "metadata": {},
   "outputs": [],
   "source": [
    "cum_sum = 0\n",
    "for i, (dim, count) in enumerate(dims):\n",
    "    if dim == \"real\" or dim == \"pos\" or dim == \"count\":\n",
    "        data_onehot[:, cum_sum] = data[:, i]\n",
    "        cum_sum += 1\n",
    "    elif dim == \"cat\" or dim == \"ord\":\n",
    "        for j in range(count):\n",
    "            data_onehot[:, cum_sum] = data[:, i] == j+1\n",
    "            cum_sum += 1\n",
    "    else:\n",
    "        print(f\"Invalid dim type {dim}! Aborting\")\n",
    "        break"
   ]
  },
  {
   "cell_type": "code",
   "execution_count": null,
   "metadata": {},
   "outputs": [],
   "source": [
    "data_onehot[0]"
   ]
  },
  {
   "cell_type": "code",
   "execution_count": null,
   "metadata": {},
   "outputs": [],
   "source": [
    "np.savetxt(\"adult_onehot.csv\", data_onehot, fmt=\"%.1f\", delimiter=\",\")"
   ]
  },
  {
   "cell_type": "code",
   "execution_count": null,
   "metadata": {},
   "outputs": [],
   "source": []
  }
 ],
 "metadata": {
  "language_info": {
   "name": "python",
   "pygments_lexer": "ipython3"
  }
 },
 "nbformat": 4,
 "nbformat_minor": 2
}
